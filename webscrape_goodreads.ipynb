{
 "cells": [
  {
   "cell_type": "markdown",
   "id": "a2ce9266",
   "metadata": {},
   "source": [
    "# Webscraping book reviews\n",
    "This notebook is a documentation on the process of extracting the reviews and reviews' metadata (reviewer, review date and ratings) from a book reviews website. \n",
    "<br/>\n",
    "\n",
    "In the process of learning to scrape the data on [goodreads](https://www.goodreads.com) website, I have broaden my understanding on the following:\n",
    "1. Reading html tags using the inspect function on google chrome\n",
    "2. Using BeautifulSoup library\n",
    "<br/>\n",
    "\n",
    "### Table of Content\n",
    "1. Import Libraries\n",
    "2. Parsing Goodreads Website\n",
    "3. Extracting the reviews' metadata\n",
    "4. Extracting the reviews\n",
    "5. Creating a dataframe with the reviews"
   ]
  },
  {
   "cell_type": "markdown",
   "id": "cf50da61",
   "metadata": {},
   "source": [
    "#### 1. Import Libraries"
   ]
  },
  {
   "cell_type": "code",
   "execution_count": 1,
   "id": "921fbed6",
   "metadata": {},
   "outputs": [],
   "source": [
    "from bs4 import BeautifulSoup\n",
    "import requests\n",
    "import re\n",
    "import pandas as pd\n",
    "import numpy as np"
   ]
  },
  {
   "cell_type": "markdown",
   "id": "6e335d1f",
   "metadata": {},
   "source": [
    "#### 2. Parsing Goodreads Website"
   ]
  },
  {
   "cell_type": "code",
   "execution_count": 2,
   "id": "f6acff8e",
   "metadata": {},
   "outputs": [],
   "source": [
    "url = f\"https://www.goodreads.com/book/show/37976541-bad-blood\"\n",
    "page = requests.get(url).text\n",
    "doc = BeautifulSoup(page, \"html.parser\")"
   ]
  },
  {
   "cell_type": "markdown",
   "id": "abbf8bcc",
   "metadata": {},
   "source": [
    "#### 3. Extract the Reviewer's Name, Rating and Review date"
   ]
  },
  {
   "cell_type": "code",
   "execution_count": 3,
   "id": "a3ff3539",
   "metadata": {},
   "outputs": [],
   "source": [
    "book_rating = doc.find_all(class_=\"reviewHeader uitext stacked\") # Obtain the reviewer's name, rating and review date\n",
    "\n",
    "username = []\n",
    "ratings = []\n",
    "review_date = []\n",
    "\n",
    "for rating in book_rating:\n",
    "    try:\n",
    "        user = rating.find(class_=\"user\").get_text()\n",
    "        rating_stars = rating.find(class_=\"staticStar p10\").get_text()\n",
    "        date = rating.find(class_=\"reviewDate createdAt right\").get_text()\n",
    "\n",
    "        username.append(user)\n",
    "        ratings.append(rating_stars)\n",
    "        review_date.append(date)\n",
    "    except:\n",
    "        pass"
   ]
  },
  {
   "cell_type": "markdown",
   "id": "4c3fbc49",
   "metadata": {},
   "source": [
    "#### 4. Extract each individual review on the page"
   ]
  },
  {
   "cell_type": "code",
   "execution_count": 5,
   "id": "97f5fa04",
   "metadata": {},
   "outputs": [],
   "source": [
    "book_review = doc.find_all(class_=\"reviewText stacked\") # Obtain the review text\n",
    "\n",
    "reviews = []\n",
    "\n",
    "x= 0\n",
    "\n",
    "for review in book_review:\n",
    "    try:\n",
    "        full_review = review.find(style=\"display:none\").get_text()\n",
    "        reviews.append(full_review)\n",
    "    except: # The except clause will be applied to short reviews that are not hidden \n",
    "        full_review = review.find(class_=\"readable\").get_text() \n",
    "        reviews.append(full_review)"
   ]
  },
  {
   "cell_type": "markdown",
   "id": "608e22c6",
   "metadata": {},
   "source": [
    "#### 5. Combine the above data into a dataframe"
   ]
  },
  {
   "cell_type": "code",
   "execution_count": 10,
   "id": "1d172a80",
   "metadata": {
    "scrolled": true
   },
   "outputs": [
    {
     "name": "stdout",
     "output_type": "stream",
     "text": [
      "                          username          ratings   review_date  \\\n",
      "0                  Michael Perkins   it was amazing  May 29, 2018   \n",
      "1                       Bill Gates  really liked it  Dec 03, 2018   \n",
      "2                           Roxane  really liked it  Jun 21, 2018   \n",
      "3                            Ilona   it was amazing  Jun 18, 2018   \n",
      "4                   Always Pouting   it was amazing  Jan 08, 2020   \n",
      "5                           Julie   really liked it  Mar 04, 2019   \n",
      "6   Chelsea (chelseadolling reads)  really liked it  Apr 02, 2019   \n",
      "7                           carol.         liked it  Sep 01, 2019   \n",
      "8                      BlackOxford  really liked it  Dec 14, 2018   \n",
      "9                    Andrew Garvin   it was amazing  May 23, 2018   \n",
      "10                          Rincey  really liked it  Jul 16, 2018   \n",
      "11             Dr. Appu Sasidharan   it was amazing  Dec 05, 2019   \n",
      "12                           JanB    it was amazing  Jan 18, 2019   \n",
      "13                        Michelle  really liked it  Sep 26, 2018   \n",
      "14  Meredith B.  (readingwithmere)  really liked it  Aug 14, 2018   \n",
      "15                Ahmad Sharabiani  really liked it  Aug 26, 2021   \n",
      "16                        Brandice   it was amazing  Jan 03, 2019   \n",
      "17                          Hannah  really liked it  Dec 12, 2018   \n",
      "18                        Lex Kent  really liked it  Aug 11, 2018   \n",
      "19                           Holly   it was amazing  Jan 31, 2019   \n",
      "20                    Jenna ❤ ❀  ❤  really liked it  Jul 08, 2019   \n",
      "21                       Diane S ☔  really liked it  Aug 08, 2019   \n",
      "22                             Dem         liked it  Feb 15, 2020   \n",
      "23                          Justin   it was amazing  May 03, 2019   \n",
      "24                            Henk  really liked it  Jul 25, 2019   \n",
      "25                         Tatiana  really liked it  Aug 02, 2018   \n",
      "26                         Jaidee          liked it  Mar 14, 2020   \n",
      "27                         Maxwell   it was amazing  Feb 06, 2019   \n",
      "28                              TC  really liked it  May 21, 2018   \n",
      "29                Carol (Bookaria)   it was amazing  Jan 10, 2019   \n",
      "\n",
      "                                              reviews  \n",
      "0   Sunny Balwani guilty on all 12 felony counts o...  \n",
      "1   I don’t read a lot of page turners. I often fi...  \n",
      "2   Fascinating accounting of the Theranos scam an...  \n",
      "3   Tips on how to make an unicorn:- Be a sociopat...  \n",
      "4   Last night when I finished this I just wanted ...  \n",
      "5   Bad Blood: Secrets and Lies in a Silicon Valle...  \n",
      "6                       \\nThis was fucking BANANAS.\\n  \n",
      "7   Lessons learned:1. Elizabeth Holmes speaks in ...  \n",
      "8   The True Cost of IdealismI have been guilty of...  \n",
      "9   Early in my career I worked at a next-generati...  \n",
      "10  HOLY COW. I followed the Elizabeth Holmes/Ther...  \n",
      "11  (Throwback review) If you are working in the H...  \n",
      "12  How does a woman who was once lauded as the yo...  \n",
      "13  “Bad Blood” details the fascinating journey of...  \n",
      "14  4.5 Stars\\nElizabeth told the gathered employe...  \n",
      "15  Bad Blood: Secrets and Lies in a Silicon Valle...  \n",
      "16  Fascinating! Bad Blood: Secrets and Lies in a ...  \n",
      "17  Mesmerising. Unbelievable. Compulsively readab...  \n",
      "18  I don’t read a lot of nonfiction books. I love...  \n",
      "19  A Sanford dropout with no extensive engineerin...  \n",
      "20  When we get our blood tested, we naturally ass...  \n",
      "21  From an early age Elizabeth Holmes, wanted to ...  \n",
      "22  \\n Money isn't the root of all evil. GREED is....  \n",
      "23  Well, friends, by now I’ve read this here book...  \n",
      "24  Elizabeth Holmes convicted today: https://www....  \n",
      "25  What an audacious fraud! Elizabeth Holmes must...  \n",
      "26  3 \"important and brave work but underwhelming ...  \n",
      "27  I loved (and was disturbed by) every second of...  \n",
      "28  Just when I thought all reporters ever did any...  \n",
      "29  A captivating, interesting, and (almost) unbel...  \n"
     ]
    }
   ],
   "source": [
    "goodreads_reviews = pd.DataFrame(np.column_stack([username,ratings,review_date,reviews]),columns=['username','ratings','review_date','reviews']) #appending all the information into a dataframe\n",
    "print(goodreads_reviews)"
   ]
  }
 ],
 "metadata": {
  "kernelspec": {
   "display_name": "Python 3 (ipykernel)",
   "language": "python",
   "name": "python3"
  },
  "language_info": {
   "codemirror_mode": {
    "name": "ipython",
    "version": 3
   },
   "file_extension": ".py",
   "mimetype": "text/x-python",
   "name": "python",
   "nbconvert_exporter": "python",
   "pygments_lexer": "ipython3",
   "version": "3.9.7"
  }
 },
 "nbformat": 4,
 "nbformat_minor": 5
}
